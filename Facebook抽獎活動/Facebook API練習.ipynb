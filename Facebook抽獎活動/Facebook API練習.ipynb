{
 "cells": [
  {
   "cell_type": "code",
   "execution_count": 1,
   "id": "3ddebae6",
   "metadata": {},
   "outputs": [
    {
     "name": "stdout",
     "output_type": "stream",
     "text": [
      "{'name': '東吳大學校友總會', 'id': '139702043048737'}\n"
     ]
    }
   ],
   "source": [
    "import requests\n",
    "url='https://graph.facebook.com/v12.0'\n",
    "token='EAACljVOZBauUBAMvlD9jgZBkmmo0zKEjr9pBL5CdYeXlDR5vwfXvBHUqgT4JDdVrK9eIKEO2Kctetk3KVJkQNpnlVkJfV1krL41GdyQu5CY2Wvd3Go1f3UvOEQGnR2LeFxf7U7aDd7qQ4Gqrqyei4dWCJjcL4YUJG3OQujPyzMAZBqdsCxamlX6u6BXOydZCv0EoCkDhZCwZDZD'\n",
    "\n",
    "print(requests.get(url+'/https://www.facebook.com/scuaa.tw/?access_token='+token).json())"
   ]
  },
  {
   "cell_type": "code",
   "execution_count": null,
   "id": "e24603df",
   "metadata": {},
   "outputs": [],
   "source": []
  }
 ],
 "metadata": {
  "kernelspec": {
   "display_name": "Python 3 (ipykernel)",
   "language": "python",
   "name": "python3"
  },
  "language_info": {
   "codemirror_mode": {
    "name": "ipython",
    "version": 3
   },
   "file_extension": ".py",
   "mimetype": "text/x-python",
   "name": "python",
   "nbconvert_exporter": "python",
   "pygments_lexer": "ipython3",
   "version": "3.8.5"
  }
 },
 "nbformat": 4,
 "nbformat_minor": 5
}
