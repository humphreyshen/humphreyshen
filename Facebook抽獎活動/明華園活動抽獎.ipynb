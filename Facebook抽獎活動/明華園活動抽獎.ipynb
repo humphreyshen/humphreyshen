{
 "cells": [
  {
   "cell_type": "code",
   "execution_count": 23,
   "id": "fa451526",
   "metadata": {
    "collapsed": true,
    "jupyter": {
     "outputs_hidden": true
    }
   },
   "outputs": [
    {
     "name": "stdout",
     "output_type": "stream",
     "text": [
      "{'message': '黃文琦，戴口罩，梅花座，進戲院，挺校友', 'created_time': '2021-09-24T10:45:39+0000', 'id': '1505909493094645_1506797766339151'}\n",
      "{'message': '凡乃乃戴口罩，梅花座，進戲院，挺校友', 'created_time': '2021-09-23T22:25:05+0000', 'id': '1505909493094645_1506454273040167'}\n",
      "{'message': 'Anita Yang,戴口罩， 梅花座，進戲院，挺校友。', 'created_time': '2021-09-24T00:30:36+0000', 'id': '1505909493094645_1506504179701843'}\n",
      "{'message': 'Emerald Yeh  戴口罩，梅花座，進戲院，挺校友', 'created_time': '2021-09-23T15:19:51+0000', 'id': '1505909493094645_1506232743062320'}\n",
      "{'message': 'Celia Hsieh 戴口罩，梅花座，進戲院，挺校友', 'created_time': '2021-09-23T14:18:08+0000', 'id': '1505909493094645_1506198413065753'}\n",
      "{'message': 'Katy Yu，戴口罩，梅花座，進戲院，挺校友', 'created_time': '2021-09-23T14:19:44+0000', 'id': '1505909493094645_1506199339732327'}\n",
      "{'message': '朱珮瑜 戴口罩，梅花座，進戲院，挺校友', 'created_time': '2021-09-23T14:16:30+0000', 'id': '1505909493094645_1506197633065831'}\n",
      "{'message': 'Yichen Huang 戴口罩，梅花座，進戲院，挺校友~帶媽媽一起去看戲❤️', 'created_time': '2021-09-23T14:42:56+0000', 'id': '1505909493094645_1506213586397569'}\n",
      "{'message': '黃文顥 ，戴口罩，梅花座，進戲院，挺校友', 'created_time': '2021-09-23T16:04:52+0000', 'id': '1505909493094645_1506257309726530'}\n",
      "{'message': '練子立 戴口罩，梅花座，進戲院，挺校友。（我現在看到她我都會想到台通xD)', 'created_time': '2021-09-23T16:34:37+0000', 'id': '1505909493094645_1506273653058229'}\n"
     ]
    }
   ],
   "source": [
    "import requests #輸入HTTP請求模組：讀取網站檔案\n",
    "import random #輸入隨機模組\n",
    "import csv #輸入CSV模組\n",
    "\n",
    "#----------------------------下方開始為主要程式碼之前置定義函式--------------------------------------------\n",
    "\n",
    "class FbLottery(object): #物件導向，將Fblottery置放於object類別之下\n",
    "    def __init__(self, page_url, token): #進行類別初始化\n",
    "        self.graph_api_url = 'https://graph.facebook.com/v12.0' #GraphAPI位置\n",
    "        self.access_token = token #權杖位置\n",
    "        self.page_url = page_url #粉絲專頁網址\n",
    "        self.page_id = self.get_page_id() #粉絲專頁專屬id\n",
    "        self.retrieve_limit = 80 #留言抽出之粉絲數量\n",
    "\n",
    "    def get_page_id(self): #定義get_page_id，並以self為參數\n",
    "        url = self.graph_api_url + '/{0}/?access_token={1}'.format(\n",
    "            self.page_url, self.access_token)\n",
    "        data = requests.get(url).json()\n",
    "        return data['id'] #取得GraphAPI中'粉絲專頁id'資料\n",
    "\n",
    "    def get_page_posts(self): #定義get_page_posts，並以self為參數\n",
    "        url = self.graph_api_url + '/{0}/posts?access_token={1}'.format(\n",
    "            self.page_id, self.access_token)\n",
    "        data = requests.get(url).json()\n",
    "        return data['data'] #取得GraphAPI中'data'資料\n",
    "\n",
    "    def get_lottery_post(self, title): #定義get_lottery_posts，並以self為參數,title參數為文章關鍵字\n",
    "        all_posts = self.get_page_posts() #all_posts=取得全部貼文\n",
    "        for post in all_posts: #for迴圈，尋找目標貼文\n",
    "            if title in post['message']:  #尋找GraphAPI中'message'資料中含有之關鍵字貼文\n",
    "                return post #取得之後，回傳該篇貼文至post當中\n",
    "\n",
    "    def get_post_comments(self, post_id): #定義get_post_comments，並以self為參數,post_id參數為目標貼文id\n",
    "        url = self.graph_api_url + '/{0}/comments?limit={1}&access_token={2}'.format(\n",
    "            post_id, self.retrieve_limit, self.access_token)\n",
    "        data = requests.get(url).json()\n",
    "        return data['data'] #取得GraphAPI中'data'資料\n",
    "\n",
    "    def draw(self, comments, num_of_prize):\n",
    "        fans = list() #取得GraphAPI中fans資料，資料型態改為list()\n",
    "        user_ids = set() #取得GraphAPI中user_ids資料，資料型態改為set()\n",
    "        for comment in comments: #執行for迴圈，取得GraphAPI當中comments資料\n",
    "            if comment['id'] in user_ids:\n",
    "                continue\n",
    "            else:\n",
    "                user_ids.add(comment['id'])\n",
    "                fans.append({\n",
    "                    'message': comment['message'],\n",
    "                    'created_time': comment['created_time'],\n",
    "                    'id': comment['id']\n",
    "                })\n",
    "        random.shuffle(fans) #引用random模組當中之shuffle函式\n",
    "        draws = fans[:num_of_prize]\n",
    "        with open('draw.csv', 'w', encoding='utf-8') as csvfile:\n",
    "            fieldnames = ['id', 'created_time', 'message']\n",
    "            writer = csv.DictWriter(csvfile, fieldnames=fieldnames)\n",
    "            writer.writeheader()\n",
    "            for draw in draws:\n",
    "                print(draw)\n",
    "                writer.writerow(draw)\n",
    "\n",
    "\n",
    "if __name__ == '__main__':\n",
    "    #----------------------------下方開始為主要抽獎程式碼--------------------------------------------\n",
    "    ACCESS_TOKEN = 'EAACljVOZBauUBAMvlD9jgZBkmmo0zKEjr9pBL5CdYeXlDR5vwfXvBHUqgT4JDdVrK9eIKEO2Kctetk3KVJkQNpnlVkJfV1krL41GdyQu5CY2Wvd3Go1f3UvOEQGnR2LeFxf7U7aDd7qQ4Gqrqyei4dWCJjcL4YUJG3OQujPyzMAZBqdsCxamlX6u6BXOydZCv0EoCkDhZCwZDZD'\n",
    "    #東吳大學校友總會Facebook GraphAPI權杖\n",
    "    fl = FbLottery('https://www.facebook.com/scuaa.tw', ACCESS_TOKEN) #存取校友總會粉絲專頁主要連結與權杖\n",
    "    lottery_post = fl.get_lottery_post('校友藝起來・兩廳院看明華園') #尋找有關鍵字之目標文章(導向get_lottery_post定義函式)\n",
    "    lottery_post_comments = fl.get_post_comments(lottery_post['id']) #尋找目標文章之流言(導向get_post_comments定義函式)\n",
    "    fl.draw(lottery_post_comments, 10) #利用draw函數抽出10名得獎者 (導向draw定義函式)"
   ]
  },
  {
   "cell_type": "code",
   "execution_count": null,
   "id": "334c3788",
   "metadata": {},
   "outputs": [],
   "source": []
  }
 ],
 "metadata": {
  "kernelspec": {
   "display_name": "Python 3 (ipykernel)",
   "language": "python",
   "name": "python3"
  },
  "language_info": {
   "codemirror_mode": {
    "name": "ipython",
    "version": 3
   },
   "file_extension": ".py",
   "mimetype": "text/x-python",
   "name": "python",
   "nbconvert_exporter": "python",
   "pygments_lexer": "ipython3",
   "version": "3.8.5"
  }
 },
 "nbformat": 4,
 "nbformat_minor": 5
}
