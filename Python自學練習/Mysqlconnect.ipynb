{
 "cells": [
  {
   "cell_type": "code",
   "execution_count": null,
   "id": "640e7b34",
   "metadata": {},
   "outputs": [],
   "source": [
    "import pymsql\n",
    "conn=pymsql.connect(host='162.241.24.143',port=3306,user='root',passwd='h5534668',charset='utf8',db='scuaatw_WPREK')\n",
    "\n",
    "with conn.cursor()as cursor:\n",
    "\n",
    "sql=\"\"\"\n",
    "SELECT \n",
    "id,\n",
    "zh_name,\n",
    "atta_name,\n",
    "dDt_alumnidb_schooldept_id.school_name,\n",
    "dDt_alumnidb_schooldept_id.dept_name,\n",
    "grad_year\n",
    "FROM(SELECT\n",
    "     dDt_alumnidb_personal.id,\n",
    "     dDt_alumnidb_personal.zh_name,\n",
    "     dDt_alumnidb_personal.bye,\n",
    "     dDt_alumnidb_atta_id.atta,\n",
    "     dDt_alumnidb_atta_id.atta_name,\n",
    "     dDt_alumnidb_academic.grad_year,\n",
    "     dDt_alumnidb_academic.alumni_id,\n",
    "     dDt_alumnidb_academic.school,\n",
    "     dDt_alumnidb_academic.dept,\n",
    "     CONCAT(dDt_alumnidb_academic.school,dDt_alumnidb_academic.dept) AS combined_dept,\n",
    "     dDt_alumnidb_academic.class\n",
    "\t FROM dDt_alumnidb_personal\n",
    "\t INNER JOIN dDt_alumnidb_academic\n",
    "\t ON dDt_alumnidb_personal.id=dDt_alumnidb_academic.id\n",
    "  LEFT JOIN dDt_alumnidb_atta_id\n",
    "\t ON dDt_alumnidb_academic.atta=dDt_alumnidb_atta_id.atta\n",
    "    WHERE \n",
    "   \t(bye=1)AND\n",
    "\t \t((zh_name = '賀曾慶')AND\t\n",
    "        (1=1)AND\t\n",
    "\t \t(1=1)AND\t\n",
    "\t\t(1=1)AND\t\n",
    "\t\t(1=1)AND\t\n",
    "\t \t(1=1))\n",
    "     )\n",
    "AS Temp_table\n",
    "LEFT JOIN dDt_alumnidb_schooldept_id\n",
    "ON combined_dept=dDt_alumnidb_schooldept_id.schooldept_id;\"\"\"\n",
    "     \n",
    "cursor.execute(sql)\n",
    "datas=cursor.fetchall()\n",
    "print(datas)\n",
    "conn.close"
   ]
  }
 ],
 "metadata": {
  "kernelspec": {
   "display_name": "Python 3 (ipykernel)",
   "language": "python",
   "name": "python3"
  },
  "language_info": {
   "codemirror_mode": {
    "name": "ipython",
    "version": 3
   },
   "file_extension": ".py",
   "mimetype": "text/x-python",
   "name": "python",
   "nbconvert_exporter": "python",
   "pygments_lexer": "ipython3",
   "version": "3.8.5"
  }
 },
 "nbformat": 4,
 "nbformat_minor": 5
}
