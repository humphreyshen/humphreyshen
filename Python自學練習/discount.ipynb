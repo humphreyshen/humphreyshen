{
 "cells": [
  {
   "cell_type": "code",
   "execution_count": 2,
   "id": "a6e0b270",
   "metadata": {},
   "outputs": [
    {
     "name": "stdin",
     "output_type": "stream",
     "text": [
      "請輸入建議價格： 120000\n"
     ]
    },
    {
     "name": "stdout",
     "output_type": "stream",
     "text": [
      "特價： 96000.0\n"
     ]
    }
   ],
   "source": [
    "price=int(input(\"請輸入建議價格：\"))\n",
    "if price>=100000:\n",
    "    if price>=100000:\n",
    "        print(\"特價：\",price*0.8)\n",
    "    elif price>=50000:\n",
    "        print(\"特價：\",price*0.85)\n",
    "    elif price>=30000:\n",
    "        print(\"特價：\",price*0.9)\n",
    "    else:\n",
    "        print(\"特價：\",price*0.95)\n",
    "else:\n",
    "    print(\"不符合折扣資格\")"
   ]
  },
  {
   "cell_type": "code",
   "execution_count": 3,
   "id": "970d5f7c",
   "metadata": {},
   "outputs": [
    {
     "name": "stdin",
     "output_type": "stream",
     "text": [
      "請輸入建議價格： 9000\n"
     ]
    },
    {
     "name": "stdout",
     "output_type": "stream",
     "text": [
      "不符合折扣資格\n"
     ]
    }
   ],
   "source": [
    "price=int(input(\"請輸入建議價格：\"))\n",
    "if price>=100000:\n",
    "    if price>=100000:\n",
    "        print(\"特價：\",price*0.8)\n",
    "    elif price>=50000:\n",
    "        print(\"特價：\",price*0.85)\n",
    "    elif price>=30000:\n",
    "        print(\"特價：\",price*0.9)\n",
    "    else:\n",
    "        print(\"特價：\",price*0.95)\n",
    "else:\n",
    "    print(\"不符合折扣資格\")"
   ]
  },
  {
   "cell_type": "code",
   "execution_count": 5,
   "id": "684054ae",
   "metadata": {},
   "outputs": [
    {
     "name": "stdin",
     "output_type": "stream",
     "text": [
      "請輸入建議價格： 20000\n"
     ]
    },
    {
     "name": "stdout",
     "output_type": "stream",
     "text": [
      "特價： 19000.0\n"
     ]
    }
   ],
   "source": [
    "price=int(input(\"請輸入建議價格：\"))\n",
    "if price>=10000:\n",
    "    if price>=100000:\n",
    "        print(\"特價：\",price*0.8)\n",
    "    elif price>=50000:\n",
    "        print(\"特價：\",price*0.85)\n",
    "    elif price>=30000:\n",
    "        print(\"特價：\",price*0.9)\n",
    "    else:\n",
    "        print(\"特價：\",price*0.95)\n",
    "else:\n",
    "    print(\"不符合折扣資格\")\n"
   ]
  },
  {
   "cell_type": "code",
   "execution_count": 6,
   "id": "f8d81d41",
   "metadata": {},
   "outputs": [
    {
     "name": "stdin",
     "output_type": "stream",
     "text": [
      "請輸入建議價格： 3000\n"
     ]
    },
    {
     "name": "stdout",
     "output_type": "stream",
     "text": [
      "不符合折扣資格\n"
     ]
    }
   ],
   "source": [
    "price=int(input(\"請輸入建議價格：\"))\n",
    "if price>=10000:\n",
    "    if price>=100000:\n",
    "        print(\"特價：\",price*0.8)\n",
    "    elif price>=50000:\n",
    "        print(\"特價：\",price*0.85)\n",
    "    elif price>=30000:\n",
    "        print(\"特價：\",price*0.9)\n",
    "    else:\n",
    "        print(\"特價：\",price*0.95)\n",
    "else:\n",
    "    print(\"不符合折扣資格\")\n"
   ]
  }
 ],
 "metadata": {
  "kernelspec": {
   "display_name": "Python 3 (ipykernel)",
   "language": "python",
   "name": "python3"
  },
  "language_info": {
   "codemirror_mode": {
    "name": "ipython",
    "version": 3
   },
   "file_extension": ".py",
   "mimetype": "text/x-python",
   "name": "python",
   "nbconvert_exporter": "python",
   "pygments_lexer": "ipython3",
   "version": "3.8.5"
  }
 },
 "nbformat": 4,
 "nbformat_minor": 5
}
