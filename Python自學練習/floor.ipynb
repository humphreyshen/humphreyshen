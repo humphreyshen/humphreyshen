{
 "cells": [
  {
   "cell_type": "code",
   "execution_count": 3,
   "id": "e5ec0934",
   "metadata": {},
   "outputs": [
    {
     "name": "stdin",
     "output_type": "stream",
     "text": [
      "請輸入大樓的樓層數 4\n"
     ]
    },
    {
     "name": "stdout",
     "output_type": "stream",
     "text": [
      "本大樓具有的樓層數為\n",
      "1 2 3 5 \n"
     ]
    }
   ],
   "source": [
    "n=int(input(\"請輸入大樓的樓層數\"))\n",
    "print(\"本大樓具有的樓層數為\")\n",
    "if n>3:\n",
    "    n=n+1\n",
    "for i in range (1,n+1):\n",
    "    if(i==4):\n",
    "        continue\n",
    "    print(i,end=\" \")\n",
    "print()"
   ]
  },
  {
   "cell_type": "code",
   "execution_count": 4,
   "id": "459d9540",
   "metadata": {},
   "outputs": [
    {
     "name": "stdin",
     "output_type": "stream",
     "text": [
      "請輸入大樓的樓層數 2\n"
     ]
    },
    {
     "name": "stdout",
     "output_type": "stream",
     "text": [
      "本大樓具有的樓層數為\n",
      "1 2 \n"
     ]
    }
   ],
   "source": [
    "n=int(input(\"請輸入大樓的樓層數\"))\n",
    "print(\"本大樓具有的樓層數為\")\n",
    "if n>3:\n",
    "    n=n+1\n",
    "for i in range (1,n+1):\n",
    "    if(i==4):\n",
    "        continue\n",
    "    print(i,end=\" \")\n",
    "print()"
   ]
  }
 ],
 "metadata": {
  "kernelspec": {
   "display_name": "Python 3 (ipykernel)",
   "language": "python",
   "name": "python3"
  },
  "language_info": {
   "codemirror_mode": {
    "name": "ipython",
    "version": 3
   },
   "file_extension": ".py",
   "mimetype": "text/x-python",
   "name": "python",
   "nbconvert_exporter": "python",
   "pygments_lexer": "ipython3",
   "version": "3.8.5"
  }
 },
 "nbformat": 4,
 "nbformat_minor": 5
}
