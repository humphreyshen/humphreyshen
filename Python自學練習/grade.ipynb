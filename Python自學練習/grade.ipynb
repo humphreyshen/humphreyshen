{
 "cells": [
  {
   "cell_type": "code",
   "execution_count": 1,
   "id": "df3d6c04",
   "metadata": {},
   "outputs": [
    {
     "name": "stdin",
     "output_type": "stream",
     "text": [
      "請輸入成績： 60\n"
     ]
    },
    {
     "name": "stdout",
     "output_type": "stream",
     "text": [
      "丙等\n"
     ]
    }
   ],
   "source": [
    "score=(int(input(\"請輸入成績：\")))\n",
    "if score >=90:\n",
    "    print(\"優等\")\n",
    "elif score >=80:\n",
    "    print(\"甲等\")\n",
    "elif score >=70:\n",
    "    print(\"乙等\")\n",
    "elif score>=60:\n",
    "    print(\"丙等\")\n",
    "else:\n",
    "    print(\"不及格\")"
   ]
  },
  {
   "cell_type": "code",
   "execution_count": 2,
   "id": "83b41ede",
   "metadata": {},
   "outputs": [
    {
     "name": "stdin",
     "output_type": "stream",
     "text": [
      "請輸入成績： 99\n"
     ]
    },
    {
     "name": "stdout",
     "output_type": "stream",
     "text": [
      "優等\n"
     ]
    }
   ],
   "source": [
    "score=(int(input(\"請輸入成績：\")))\n",
    "if score >=90:\n",
    "    print(\"優等\")\n",
    "elif score >=80:\n",
    "    print(\"甲等\")\n",
    "elif score >=70:\n",
    "    print(\"乙等\")\n",
    "elif score>=60:\n",
    "    print(\"丙等\")\n",
    "else:\n",
    "    print(\"不及格\")"
   ]
  },
  {
   "cell_type": "code",
   "execution_count": 3,
   "id": "44b4b95e",
   "metadata": {},
   "outputs": [
    {
     "name": "stdin",
     "output_type": "stream",
     "text": [
      "請輸入成績： 70\n"
     ]
    },
    {
     "name": "stdout",
     "output_type": "stream",
     "text": [
      "乙等\n"
     ]
    }
   ],
   "source": [
    "score=(int(input(\"請輸入成績：\")))\n",
    "if score >=90:\n",
    "    print(\"優等\")\n",
    "elif score >=80:\n",
    "    print(\"甲等\")\n",
    "elif score >=70:\n",
    "    print(\"乙等\")\n",
    "elif score>=60:\n",
    "    print(\"丙等\")\n",
    "else:\n",
    "    print(\"不及格\")"
   ]
  }
 ],
 "metadata": {
  "kernelspec": {
   "display_name": "Python 3 (ipykernel)",
   "language": "python",
   "name": "python3"
  },
  "language_info": {
   "codemirror_mode": {
    "name": "ipython",
    "version": 3
   },
   "file_extension": ".py",
   "mimetype": "text/x-python",
   "name": "python",
   "nbconvert_exporter": "python",
   "pygments_lexer": "ipython3",
   "version": "3.8.5"
  }
 },
 "nbformat": 4,
 "nbformat_minor": 5
}
