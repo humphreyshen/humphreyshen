{
 "cells": [
  {
   "cell_type": "code",
   "execution_count": 1,
   "id": "41d8f085",
   "metadata": {},
   "outputs": [
    {
     "name": "stdin",
     "output_type": "stream",
     "text": [
      "請輸入正整數： 5\n"
     ]
    },
    {
     "name": "stdout",
     "output_type": "stream",
     "text": [
      "1到5的整數和為15\n"
     ]
    }
   ],
   "source": [
    "sum=0\n",
    "n=int(input(\"請輸入正整數：\"))\n",
    "for i in range (1,n+1):\n",
    "    sum=sum+i\n",
    "print(\"1到%d的整數和為%d\" %(n,sum))"
   ]
  },
  {
   "cell_type": "code",
   "execution_count": 2,
   "id": "ab6cfd5e",
   "metadata": {},
   "outputs": [
    {
     "name": "stdin",
     "output_type": "stream",
     "text": [
      "請輸入正整數： 20\n"
     ]
    },
    {
     "name": "stdout",
     "output_type": "stream",
     "text": [
      "1到20的整數和為210\n"
     ]
    }
   ],
   "source": [
    "sum=0 #設定起始值\n",
    "n=int(input(\"請輸入正整數：\"))\n",
    "for i in range (1,n+1): #n+1代表取值到n\n",
    "    sum=sum+i\n",
    "print(\"1到%d的整數和為%d\" %(n,sum))"
   ]
  }
 ],
 "metadata": {
  "kernelspec": {
   "display_name": "Python 3 (ipykernel)",
   "language": "python",
   "name": "python3"
  },
  "language_info": {
   "codemirror_mode": {
    "name": "ipython",
    "version": 3
   },
   "file_extension": ".py",
   "mimetype": "text/x-python",
   "name": "python",
   "nbconvert_exporter": "python",
   "pygments_lexer": "ipython3",
   "version": "3.8.5"
  }
 },
 "nbformat": 4,
 "nbformat_minor": 5
}
