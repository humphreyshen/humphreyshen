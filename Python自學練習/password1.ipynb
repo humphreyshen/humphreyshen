{
 "cells": [
  {
   "cell_type": "code",
   "execution_count": 1,
   "id": "8acb839c",
   "metadata": {},
   "outputs": [
    {
     "name": "stdin",
     "output_type": "stream",
     "text": [
      "請輸入密碼 1234\n"
     ]
    },
    {
     "name": "stdout",
     "output_type": "stream",
     "text": [
      "歡迎光臨！\n"
     ]
    }
   ],
   "source": [
    "pw=input(\"請輸入密碼\")\n",
    "if pw==\"1234\":\n",
    "    print(\"歡迎光臨！\")"
   ]
  },
  {
   "cell_type": "code",
   "execution_count": 1,
   "id": "ce798842",
   "metadata": {},
   "outputs": [
    {
     "name": "stdin",
     "output_type": "stream",
     "text": [
      "您好，請輸入密碼 1234\n"
     ]
    },
    {
     "name": "stdout",
     "output_type": "stream",
     "text": [
      "歡迎光臨！\n"
     ]
    }
   ],
   "source": [
    "pw=input(\"您好，請輸入密碼\")\n",
    "if pw==\"1234\":\n",
    "    print(\"歡迎光臨！\")\n",
    "else:\n",
    "    print(\"輸入錯誤！\")"
   ]
  }
 ],
 "metadata": {
  "kernelspec": {
   "display_name": "Python 3 (ipykernel)",
   "language": "python",
   "name": "python3"
  },
  "language_info": {
   "codemirror_mode": {
    "name": "ipython",
    "version": 3
   },
   "file_extension": ".py",
   "mimetype": "text/x-python",
   "name": "python",
   "nbconvert_exporter": "python",
   "pygments_lexer": "ipython3",
   "version": "3.8.5"
  }
 },
 "nbformat": 4,
 "nbformat_minor": 5
}
