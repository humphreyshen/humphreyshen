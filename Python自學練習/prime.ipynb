{
 "cells": [
  {
   "cell_type": "code",
   "execution_count": 3,
   "id": "8e067139",
   "metadata": {},
   "outputs": [
    {
     "name": "stdin",
     "output_type": "stream",
     "text": [
      "請輸入大於1的整數： 2\n"
     ]
    },
    {
     "name": "stdout",
     "output_type": "stream",
     "text": [
      "2為質數！\n"
     ]
    }
   ],
   "source": [
    "n=int(input(\"請輸入大於1的整數：\"))\n",
    "if (n==2):\n",
    "    print(\"2為質數！\")\n",
    "else:\n",
    "    for i in range(2,n):\n",
    "        if(n % i == 0):\n",
    "            print(\"%d 不是質數！\" % n)\n",
    "            break\n",
    "    else:\n",
    "        print(\"%d 是質數\" % n)"
   ]
  },
  {
   "cell_type": "code",
   "execution_count": 4,
   "id": "25064910",
   "metadata": {},
   "outputs": [
    {
     "name": "stdin",
     "output_type": "stream",
     "text": [
      "請輸入大於1的整數： 6\n"
     ]
    },
    {
     "name": "stdout",
     "output_type": "stream",
     "text": [
      "6 不是質數！\n"
     ]
    }
   ],
   "source": [
    "n=int(input(\"請輸入大於1的整數：\"))\n",
    "if (n==2):\n",
    "    print(\"2為質數！\")\n",
    "else:\n",
    "    for i in range(2,n):\n",
    "        if(n % i == 0):\n",
    "            print(\"%d 不是質數！\" % n)\n",
    "            break\n",
    "    else:\n",
    "        print(\"%d 是質數\" % n)"
   ]
  },
  {
   "cell_type": "code",
   "execution_count": 5,
   "id": "5c878156",
   "metadata": {},
   "outputs": [
    {
     "name": "stdin",
     "output_type": "stream",
     "text": [
      "請輸入大於1的整數： 7\n"
     ]
    },
    {
     "name": "stdout",
     "output_type": "stream",
     "text": [
      "7 是質數\n"
     ]
    }
   ],
   "source": [
    "n=int(input(\"請輸入大於1的整數：\"))\n",
    "if (n==2):\n",
    "    print(\"2為質數！\")\n",
    "else:\n",
    "    for i in range(2,n):\n",
    "        if(n % i == 0):\n",
    "            print(\"%d 不是質數！\" % n)\n",
    "            break\n",
    "    else:\n",
    "        print(\"%d 是質數\" % n)"
   ]
  }
 ],
 "metadata": {
  "kernelspec": {
   "display_name": "Python 3 (ipykernel)",
   "language": "python",
   "name": "python3"
  },
  "language_info": {
   "codemirror_mode": {
    "name": "ipython",
    "version": 3
   },
   "file_extension": ".py",
   "mimetype": "text/x-python",
   "name": "python",
   "nbconvert_exporter": "python",
   "pygments_lexer": "ipython3",
   "version": "3.8.5"
  }
 },
 "nbformat": 4,
 "nbformat_minor": 5
}
