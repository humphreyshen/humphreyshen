{
 "cells": [
  {
   "cell_type": "code",
   "execution_count": 1,
   "id": "6b9eb690",
   "metadata": {},
   "outputs": [
    {
     "name": "stdin",
     "output_type": "stream",
     "text": [
      "請輸入第1位同學之成績 10\n",
      "請輸入第2位同學之成績 20\n",
      "請輸入第3位同學之成績 60\n",
      "請輸入第4位同學之成績 70\n",
      "請輸入第5位同學之成績 50\n",
      "請輸入第6位同學之成績 99\n",
      "請輸入第7位同學之成績 -1\n"
     ]
    },
    {
     "name": "stdout",
     "output_type": "stream",
     "text": [
      "本班總成績：309分，平均成績51.50\n"
     ]
    }
   ],
   "source": [
    "total=person=score=0\n",
    "while(score!=-1):\n",
    "    person=person+1\n",
    "    total=total+score\n",
    "    score=int(input(\"請輸入第%d位同學之成績\" % person))\n",
    "average=total/(person-1)\n",
    "print(\"本班總成績：%d分，平均成績%5.2f\" % (total,average))"
   ]
  }
 ],
 "metadata": {
  "kernelspec": {
   "display_name": "Python 3 (ipykernel)",
   "language": "python",
   "name": "python3"
  },
  "language_info": {
   "codemirror_mode": {
    "name": "ipython",
    "version": 3
   },
   "file_extension": ".py",
   "mimetype": "text/x-python",
   "name": "python",
   "nbconvert_exporter": "python",
   "pygments_lexer": "ipython3",
   "version": "3.8.5"
  }
 },
 "nbformat": 4,
 "nbformat_minor": 5
}
