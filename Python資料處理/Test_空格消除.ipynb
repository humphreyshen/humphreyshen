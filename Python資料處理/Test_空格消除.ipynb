{
 "cells": [
  {
   "cell_type": "code",
   "execution_count": 10,
   "id": "2dc15ee8",
   "metadata": {},
   "outputs": [
    {
     "data": {
      "text/plain": [
       "0    殷葦婷\n",
       "1    郭敬子\n",
       "2    陳仕俍\n",
       "3    郭珈郗\n",
       "4    陸大文\n",
       "5    鄧淑珠\n",
       "6     王芳\n",
       "Name: zh_name, dtype: object"
      ]
     },
     "execution_count": 10,
     "metadata": {},
     "output_type": "execute_result"
    }
   ],
   "source": [
    "import pandas as pd\n",
    "import numpy as np\n",
    "\n",
    "df1=pd.read_csv(\"/Users/humphreyshen/Desktop/2021 Database Project/總表下載數據/2000筆資料自動化更新_test.csv\")\n",
    "df_original=pd.DataFrame(df1)\n",
    "\n",
    "df_clean_name = df_original['zh_name'].str.replace(' ','')\n",
    "df_clean_name"
   ]
  },
  {
   "cell_type": "code",
   "execution_count": 4,
   "id": "2f426d81",
   "metadata": {},
   "outputs": [],
   "source": [
    "import pandas as pd\n",
    "import numpy as np\n",
    "\n",
    "df1=pd.read_csv(\"/Users/humphreyshen/Desktop/2021 Database Project/總表下載數據/df_orginal_withoutblank.csv\")\n",
    "df_real=pd.DataFrame(df1)\n",
    "\n",
    "df_real_clean_name = df_real['zh_name'].str.replace(' ','').str.replace(u'\\u3000',u'')"
   ]
  },
  {
   "cell_type": "code",
   "execution_count": 10,
   "id": "af72f4a1",
   "metadata": {},
   "outputs": [
    {
     "data": {
      "text/plain": [
       "'馬庭豐'"
      ]
     },
     "execution_count": 10,
     "metadata": {},
     "output_type": "execute_result"
    }
   ],
   "source": [
    "df_real_clean_name.iloc[111073]"
   ]
  },
  {
   "cell_type": "code",
   "execution_count": null,
   "id": "84955ba7",
   "metadata": {},
   "outputs": [],
   "source": []
  }
 ],
 "metadata": {
  "kernelspec": {
   "display_name": "Python 3 (ipykernel)",
   "language": "python",
   "name": "python3"
  },
  "language_info": {
   "codemirror_mode": {
    "name": "ipython",
    "version": 3
   },
   "file_extension": ".py",
   "mimetype": "text/x-python",
   "name": "python",
   "nbconvert_exporter": "python",
   "pygments_lexer": "ipython3",
   "version": "3.8.5"
  }
 },
 "nbformat": 4,
 "nbformat_minor": 5
}
