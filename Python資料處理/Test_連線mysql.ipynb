{
 "cells": [
  {
   "cell_type": "code",
   "execution_count": 19,
   "id": "7b5532ad",
   "metadata": {},
   "outputs": [
    {
     "name": "stdout",
     "output_type": "stream",
     "text": [
      "Connection Test Completed\n",
      "Database Version: 5.7.23-23\n"
     ]
    },
    {
     "data": {
      "text/plain": [
       "<bound method Connection.close of <pymysql.connections.Connection object at 0x7fa6dca58340>>"
      ]
     },
     "execution_count": 19,
     "metadata": {},
     "output_type": "execute_result"
    }
   ],
   "source": [
    "import pymysql\n",
    "conn = pymysql.connect(host='162.241.24.143',port=3306,user='scuaatw_humphrey',passwd='ShyshenQ202$',charset='utf8',db='scuaatw_WPREK')\n",
    "cursor=conn.cursor()\n",
    "cursor.execute(\"Select VERSION()\")\n",
    "data=cursor.fetchone()\n",
    "print(\"Database Version: %s\" %data)\n",
    "conn.close"
   ]
  }
 ],
 "metadata": {
  "kernelspec": {
   "display_name": "Python 3 (ipykernel)",
   "language": "python",
   "name": "python3"
  },
  "language_info": {
   "codemirror_mode": {
    "name": "ipython",
    "version": 3
   },
   "file_extension": ".py",
   "mimetype": "text/x-python",
   "name": "python",
   "nbconvert_exporter": "python",
   "pygments_lexer": "ipython3",
   "version": "3.8.5"
  }
 },
 "nbformat": 4,
 "nbformat_minor": 5
}
