{
 "cells": [
  {
   "cell_type": "code",
   "execution_count": null,
   "source": [
    "#2000筆資料從未出現過之名冊\n",
    "\n",
    "import pandas as pd\n",
    "import numpy as np\n",
    "\n",
    "Table1_114104=pd.read_csv(\"/Users/humphreyshen/Desktop/Database Project/測試數據/alumni_event_participant/全體資料_114104.csv\")\n",
    "df1=pd.DataFrame(Table1_114104,columns=['id','zh_name','en_name','gender','birthday','age','email','zip_code','region','county','district','address','cell','tele','id_num','last_edit','bye','note'])\n",
    "\n",
    "Table2_2000=pd.read_csv(\"/Users/humphreyshen/Desktop/Database Project/測試數據/alumni_event_participant/班級聯絡人篩選完畢.csv\")\n",
    "df2=pd.DataFrame(Table2_2000,columns=['id','zh_name','en_name','gender','birthday','age','email','zip_code','region','county','district','address','cell','tele','id_num','last_edit','bye','note'])\n",
    "df_combined=df1.append(df2) #(A+B）\n",
    "df_combined_difference=df_combined.drop_duplicates(subset=['zh_name'],keep=False) #(A'+B'）且無同名同姓\n",
    "df2_condition1=pd.concat([df_combined_difference,df2]) #(A'+B'）+ [(B-B')+B']\n",
    "df2_condition2=df2_condition1[df2_condition1.duplicated(keep=False)] #(A'+B')+[(B-B')+B']-A'-(B-B')=(B'+B')\n",
    "df2_condition3=df2_condition2.drop_duplicates() #B'\n",
    "print(df2_condition3)\n",
    "\n",
    "df2_condition3.to_csv('2,000筆資料從未出現')"
   ],
   "outputs": [],
   "metadata": {}
  },
  {
   "cell_type": "code",
   "execution_count": 2,
   "source": [
    "#2000筆資料曾經出現過之名冊\n",
    "\n",
    "import pandas as pd\n",
    "import numpy as np\n",
    "\n",
    "Table1_114104=pd.read_csv(\"/Users/humphreyshen/Desktop/Database Project/測試數據/alumni_event_participant/全體資料_114104.csv\")\n",
    "df1=pd.DataFrame(Table1_114104,columns=['id','zh_name','en_name','gender','birthday','age','email','zip_code','region','county','district','address','cell','tele','id_num','last_edit','bye','note'])\n",
    "\n",
    "Table2_2000=pd.read_csv(\"/Users/humphreyshen/Desktop/Database Project/測試數據/alumni_event_participant/班級聯絡人篩選完畢.csv\")\n",
    "df2=pd.DataFrame(Table2_2000,columns=['id','zh_name','en_name','gender','birthday','age','email','zip_code','region','county','district','address','cell','tele','id_num','last_edit','bye','note'])\n",
    "df_combined=df1.append(df2) #(A+B）\n",
    "df_combined_difference=df_combined.drop_duplicates(subset=['zh_name'],keep=False) #(A'+B'）且無同名同姓\n",
    "df2_condition1=pd.concat([df_combined_difference,df2]) #(A'+B'）+ [(B-B')+B']\n",
    "df2_condition2=df2_condition1[df2_condition1.duplicated(keep=False)] #(A'+B')+[(B-B')+B']-A'-(B-B')=(B'+B')\n",
    "df2_condition3=df2_condition2.drop_duplicates() #B'\n",
    "\n",
    "df_combined_same_pre=df2.append(df2_condition3) #[(B-B')+B']+B'\n",
    "df_combined_same_condition1=df_combined_same_pre[df_combined_same_pre.duplicated(keep=False)] # [B'(True)]+[B'(True)]\n",
    "df_combined_same_condition2=df_combined_same_pre.append(df_combined_same_condition1) #[(B-B')+B']+B'-[B'(True)]+[B'(True)]\n",
    "df_combined_same_condition3=df_combined_same_condition2.drop_duplicates(keep=False) #(B-B')\n",
    "df_combined_same_condition3\n",
    "\n",
    "print(df_combined_same_condition3)\n"
   ],
   "outputs": [
    {
     "output_type": "error",
     "ename": "ModuleNotFoundError",
     "evalue": "No module named 'pandas'",
     "traceback": [
      "\u001b[0;31m---------------------------------------------------------------------------\u001b[0m",
      "\u001b[0;31mModuleNotFoundError\u001b[0m                       Traceback (most recent call last)",
      "\u001b[0;32m/var/folders/bk/ms4pdg4d5tvglvf4crb9f83h0000gn/T/ipykernel_61251/137182064.py\u001b[0m in \u001b[0;36m<module>\u001b[0;34m\u001b[0m\n\u001b[1;32m      1\u001b[0m \u001b[0;31m#2000筆資料曾經出現過之名冊\u001b[0m\u001b[0;34m\u001b[0m\u001b[0;34m\u001b[0m\u001b[0;34m\u001b[0m\u001b[0m\n\u001b[1;32m      2\u001b[0m \u001b[0;34m\u001b[0m\u001b[0m\n\u001b[0;32m----> 3\u001b[0;31m \u001b[0;32mimport\u001b[0m \u001b[0mpandas\u001b[0m \u001b[0;32mas\u001b[0m \u001b[0mpd\u001b[0m\u001b[0;34m\u001b[0m\u001b[0;34m\u001b[0m\u001b[0m\n\u001b[0m\u001b[1;32m      4\u001b[0m \u001b[0;32mimport\u001b[0m \u001b[0mnumpy\u001b[0m \u001b[0;32mas\u001b[0m \u001b[0mnp\u001b[0m\u001b[0;34m\u001b[0m\u001b[0;34m\u001b[0m\u001b[0m\n\u001b[1;32m      5\u001b[0m \u001b[0;34m\u001b[0m\u001b[0m\n",
      "\u001b[0;31mModuleNotFoundError\u001b[0m: No module named 'pandas'"
     ]
    }
   ],
   "metadata": {}
  },
  {
   "cell_type": "code",
   "execution_count": null,
   "source": [
    "SELECT *\n",
    "FROM Table1_114104 INNER JOIN Table2_2000 ON Table1_114104.zh_name = Table2_2000.zh_name\n",
    "WHERE Table1_114104.email != Table2_2000.email"
   ],
   "outputs": [],
   "metadata": {}
  }
 ],
 "metadata": {
  "orig_nbformat": 4,
  "language_info": {
   "name": "python",
   "version": "3.9.1",
   "mimetype": "text/x-python",
   "codemirror_mode": {
    "name": "ipython",
    "version": 3
   },
   "pygments_lexer": "ipython3",
   "nbconvert_exporter": "python",
   "file_extension": ".py"
  },
  "kernelspec": {
   "name": "python3",
   "display_name": "Python 3.9.1 64-bit"
  },
  "interpreter": {
   "hash": "aee8b7b246df8f9039afb4144a1f6fd8d2ca17a180786b69acc140d282b71a49"
  }
 },
 "nbformat": 4,
 "nbformat_minor": 2
}