{
 "cells": [
  {
   "cell_type": "code",
   "execution_count": null,
   "metadata": {},
   "outputs": [],
   "source": [
    "#2000筆資料從未出現過之名冊\n",
    "\n",
    "import pandas as pd\n",
    "import numpy as np\n",
    "\n",
    "Table1_114104=pd.read_csv(\"/Users/humphreyshen/Desktop/Database Project/測試數據/alumni_event_participant/全體資料_114104.csv\")\n",
    "df1=pd.DataFrame(Table1_114104,columns=['id','zh_name','en_name','gender','birthday','age','email','zip_code','region','county','district','address','cell','tele','id_num','last_edit','bye','note'])\n",
    "\n",
    "Table2_2000=pd.read_csv(\"/Users/humphreyshen/Desktop/Database Project/測試數據/alumni_event_participant/班級聯絡人篩選完畢.csv\")\n",
    "df2=pd.DataFrame(Table2_2000,columns=['id','zh_name','en_name','gender','birthday','age','email','zip_code','region','county','district','address','cell','tele','id_num','last_edit','bye','note'])\n",
    "df_combined=df1.append(df2) #(A+B）\n",
    "df_combined_difference=df_combined.drop_duplicates(subset=['zh_name'],keep=False) #(A'+B'）且無同名同姓\n",
    "df2_condition1=pd.concat([df_combined_difference,df2]) #(A'+B'）+ [(B-B')+B']\n",
    "df2_condition2=df2_condition1[df2_condition1.duplicated(keep=False)] #(A'+B')+[(B-B')+B']-A'-(B-B')=(B'+B')\n",
    "df2_condition3=df2_condition2.drop_duplicates() #B'\n",
    "print(df2_condition3)\n",
    "\n",
    "df2_condition3.to_csv('2,000筆資料從未出現')"
   ]
  },
  {
   "cell_type": "code",
   "execution_count": 1,
   "metadata": {},
   "outputs": [
    {
     "name": "stderr",
     "output_type": "stream",
     "text": [
      "/Users/humphreyshen/opt/anaconda3/lib/python3.8/site-packages/IPython/core/interactiveshell.py:3441: DtypeWarning: Columns (0,3,5,7,14,15,16,17) have mixed types.Specify dtype option on import or set low_memory=False.\n",
      "  exec(code_obj, self.user_global_ns, self.user_ns)\n"
     ]
    },
    {
     "name": "stdout",
     "output_type": "stream",
     "text": [
      "       id zh_name en_name gender   birthday  age                      email  \\\n",
      "0     NaN     陳鴻智     NaN    NaN  1938/8/31  NaN       emy8088@yahoo.com.tw   \n",
      "1     NaN     廖勝國     NaN    NaN   1942/5/8  NaN        sk.liao@hotmail.com   \n",
      "2     NaN     洪長岸     NaN    NaN  1946/1/18  NaN      monty@highlink.com.tw   \n",
      "3     NaN     孫清吉     NaN    NaN  1947/12/2  NaN        chingchi@scu.edu.tw   \n",
      "4     NaN     張美玉     NaN    NaN  1948/12/5  NaN     joychang1022@gmail.com   \n",
      "...   ...     ...     ...    ...        ...  ...                        ...   \n",
      "2249  NaN     楊秉鈞     NaN    NaN        NaN  NaN  yangbinjin@hotmail.com.tw   \n",
      "2257  NaN     王怡韻     NaN    NaN        NaN  NaN     yun317926@yahoo.com.tw   \n",
      "2271  NaN     蔡惠惠     NaN    NaN        NaN  NaN      joanna12099@gmail.com   \n",
      "2287  NaN     郭家馨     NaN    NaN        NaN  NaN        c60123@yahoo.com.tw   \n",
      "2311  NaN     黃正文     NaN    NaN        NaN  NaN        egg80729@gmail.com    \n",
      "\n",
      "     zip_code region county district address          cell tele id_num  \\\n",
      "0         NaN    NaN    NaN      NaN     NaN  0955-327-930  NaN    NaN   \n",
      "1         NaN    NaN    NaN      NaN     NaN  0936-085-999  NaN    NaN   \n",
      "2         NaN    NaN    NaN      NaN     NaN  0905-516-878  NaN    NaN   \n",
      "3         NaN    NaN    NaN      NaN     NaN  0920-584-678  NaN    NaN   \n",
      "4         NaN    NaN    NaN      NaN     NaN  0933-887-716  NaN    NaN   \n",
      "...       ...    ...    ...      ...     ...           ...  ...    ...   \n",
      "2249      NaN    NaN    NaN      NaN     NaN     981203363  NaN    NaN   \n",
      "2257      NaN    NaN    NaN      NaN     NaN     938335241  NaN    NaN   \n",
      "2271      NaN    NaN    NaN      NaN     NaN     916408773  NaN    NaN   \n",
      "2287      NaN    NaN    NaN      NaN     NaN     966476505  NaN    NaN   \n",
      "2311      NaN    NaN    NaN      NaN     NaN     924133811  NaN    NaN   \n",
      "\n",
      "     last_edit bye note  \n",
      "0          NaN   1  NaN  \n",
      "1          NaN   1  NaN  \n",
      "2          NaN   1  NaN  \n",
      "3          NaN   1  NaN  \n",
      "4          NaN   1  NaN  \n",
      "...        ...  ..  ...  \n",
      "2249       NaN   1  NaN  \n",
      "2257       NaN   1  NaN  \n",
      "2271       NaN   1  NaN  \n",
      "2287       NaN   1  NaN  \n",
      "2311       NaN   1  NaN  \n",
      "\n",
      "[1487 rows x 18 columns]\n"
     ]
    }
   ],
   "source": [
    "#2000筆資料曾經出現過之名冊\n",
    "\n",
    "import pandas as pd\n",
    "import numpy as np\n",
    "\n",
    "Table1_114104=pd.read_csv(\"/Users/humphreyshen/Desktop/Database Project/測試數據/alumni_event_participant/全體資料_114104.csv\")\n",
    "df1=pd.DataFrame(Table1_114104,columns=['id','zh_name','en_name','gender','birthday','age','email','zip_code','region','county','district','address','cell','tele','id_num','last_edit','bye','note'])\n",
    "\n",
    "Table2_2000=pd.read_csv(\"/Users/humphreyshen/Desktop/Database Project/測試數據/alumni_event_participant/班級聯絡人篩選完畢.csv\")\n",
    "df2=pd.DataFrame(Table2_2000,columns=['id','zh_name','en_name','gender','birthday','age','email','zip_code','region','county','district','address','cell','tele','id_num','last_edit','bye','note'])\n",
    "df_combined=df1.append(df2) #(A+B）\n",
    "df_combined_difference=df_combined.drop_duplicates(subset=['zh_name'],keep=False) #(A'+B'）且無同名同姓\n",
    "df2_condition1=pd.concat([df_combined_difference,df2]) #(A'+B'）+ [(B-B')+B']\n",
    "df2_condition2=df2_condition1[df2_condition1.duplicated(keep=False)] #(A'+B')+[(B-B')+B']-A'-(B-B')=(B'+B')\n",
    "df2_condition3=df2_condition2.drop_duplicates() #B'\n",
    "\n",
    "df_combined_same_pre=df2.append(df2_condition3) #[(B-B')+B']+B'\n",
    "df_combined_same_condition1=df_combined_same_pre[df_combined_same_pre.duplicated(keep=False)] # [B'(True)]+[B'(True)]\n",
    "df_combined_same_condition2=df_combined_same_pre.append(df_combined_same_condition1) #[(B-B')+B']+B'-[B'(True)]+[B'(True)]\n",
    "df_combined_same_condition3=df_combined_same_condition2.drop_duplicates(keep=False) #(B-B')\n",
    "df_combined_same_condition3\n",
    "\n",
    "print(df_combined_same_condition3)\n"
   ]
  },
  {
   "cell_type": "code",
   "execution_count": null,
   "metadata": {},
   "outputs": [],
   "source": [
    "SELECT *\n",
    "FROM Table1_114104 INNER JOIN Table2_2000 ON Table1_114104.zh_name = Table2_2000.zh_name\n",
    "WHERE Table1_114104.email != Table2_2000.email"
   ]
  }
 ],
 "metadata": {
  "interpreter": {
   "hash": "aee8b7b246df8f9039afb4144a1f6fd8d2ca17a180786b69acc140d282b71a49"
  },
  "kernelspec": {
   "display_name": "Python 3 (ipykernel)",
   "language": "python",
   "name": "python3"
  },
  "language_info": {
   "codemirror_mode": {
    "name": "ipython",
    "version": 3
   },
   "file_extension": ".py",
   "mimetype": "text/x-python",
   "name": "python",
   "nbconvert_exporter": "python",
   "pygments_lexer": "ipython3",
   "version": "3.8.5"
  }
 },
 "nbformat": 4,
 "nbformat_minor": 4
}
