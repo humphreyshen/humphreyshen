{
 "cells": [
  {
   "cell_type": "code",
   "execution_count": null,
   "metadata": {},
   "outputs": [],
   "source": [
    "#data cleaning def to clean data that contains '\\r' download from mysql database\n",
    "\n",
    "def clean_data_r_issue()\n",
    "    personal_df_select=personal_df1.loc[:,['id','zh_name','en_name','gender','birthday','age','email','zip_code','region','county','district','address','cell','tele','id_num','last_edit','note']]\n",
    "    personal_df_clean=personal_df_select.replace({'\\r':''},regex=True).replace(' ',''regex=True).replace(u'\\u3000',u''regex=True)"
   ]
  }
 ],
 "metadata": {
  "language_info": {
   "name": "python"
  },
  "orig_nbformat": 4
 },
 "nbformat": 4,
 "nbformat_minor": 2
}
