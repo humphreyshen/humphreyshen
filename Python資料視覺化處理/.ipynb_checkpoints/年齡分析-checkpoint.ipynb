{
 "cells": [
  {
   "cell_type": "code",
   "execution_count": 35,
   "id": "28ac813c",
   "metadata": {},
   "outputs": [
    {
     "name": "stdout",
     "output_type": "stream",
     "text": [
      "年齡： 29 歲\n"
     ]
    }
   ],
   "source": [
    "#計算某已知生日日期之年齡\n",
    "\n",
    "import numpy as np\n",
    "import pandas as pd\n",
    "from matplotlib import pyplot as plt\n",
    "from matplotlib import figure\n",
    "import seaborn as sns\n",
    "from dateutil.relativedelta import relativedelta\n",
    "from datetime import date\n",
    "%matplotlib inline\n",
    "\n",
    "#呼叫資料表\n",
    "raw_data_allpersonal = pd.read_csv ('/Users/humphreyshen/Desktop/Database Project/測試數據/alumni_event_participant/全體資料_114104.csv')\n",
    "\n",
    "today=date.today() #呼叫當前日期\n",
    "current_year=today.year #呼叫當前日期之年份\n",
    "birthday=1992 #呼叫生日年份\n",
    "age = current_year - birthday #當前日期之年份 - 生日年份 = 年齡\n",
    "\n",
    "print(\"年齡：\",age ,\"歲\")"
   ]
  },
  {
   "cell_type": "code",
   "execution_count": 134,
   "id": "24b4e8e1",
   "metadata": {},
   "outputs": [
    {
     "name": "stdout",
     "output_type": "stream",
     "text": [
      "28.0    2806\n",
      "27.0    2801\n",
      "26.0    2655\n",
      "25.0    2146\n",
      "29.0    1873\n",
      "        ... \n",
      "89.0       1\n",
      "96.0       1\n",
      "94.0       1\n",
      "90.0       1\n",
      "95.0       1\n",
      "Name: birthday, Length: 70, dtype: int64\n"
     ]
    }
   ],
   "source": [
    "#計算多位已知生日日期之年齡\n",
    "\n",
    "import numpy as np\n",
    "import pandas as pd\n",
    "from matplotlib import pyplot as plt\n",
    "from matplotlib import figure\n",
    "import seaborn as sns\n",
    "from dateutil.relativedelta import relativedelta\n",
    "from datetime import date\n",
    "from datetime import datetime\n",
    "%matplotlib inline\n",
    "\n",
    "#呼叫資料表\n",
    "raw_data_allpersonal = pd.read_csv ('/Users/humphreyshen/Desktop/Database Project/測試數據/alumni_event_participant/全體資料_114104.csv')\n",
    "\n",
    "today=date.today() #呼叫當前日期\n",
    "current_year=today.year #呼叫當前日期之年份\n",
    "birthday=raw_data_allpersonal['birthday'] #呼叫檔案全部生日\n",
    "birthday_format=pd.to_datetime(birthday) #格式化生日\n",
    "birthday_format_year=birthday_format.dt.year #格式化生日後，只保留年份\n",
    "All_age=current_year-birthday_format_year #當前日期之年份 - 每筆生日年份 = 每筆年齡\n",
    "\n",
    "Select_age_booleanmask=All_age.notnull() #標記沒有生日之資料為True\n",
    "Select_age_pre=All_age[Select_age_booleanmask] #篩選出有生日紀錄的資料(為上列標註為False之資料)\n",
    "Select_age_group=Select_age_pre.value_counts()#計算個別已知年齡層人數\n",
    "print(Select_age_group)"
   ]
  },
  {
   "cell_type": "code",
   "execution_count": 164,
   "id": "5b208a16",
   "metadata": {},
   "outputs": [
    {
     "data": {
      "image/png": "[encoded data removed]",
      "text/plain": [
       "<Figure size 432x288 with 1 Axes>"
      ]
     },
     "metadata": {
      "needs_background": "light"
     },
     "output_type": "display_data"
    }
   ],
   "source": [
    "#計算多位已知生日日期之年齡\n",
    "\n",
    "import numpy as np\n",
    "import pandas as pd\n",
    "from matplotlib import pyplot as plt\n",
    "from matplotlib import figure\n",
    "import seaborn as sns\n",
    "from dateutil.relativedelta import relativedelta\n",
    "from datetime import date\n",
    "from datetime import datetime\n",
    "%matplotlib inline\n",
    "\n",
    "#呼叫資料表\n",
    "raw_data_allpersonal = pd.read_csv ('/Users/humphreyshen/Desktop/Database Project/測試數據/alumni_event_participant/全體資料_114104.csv')\n",
    "\n",
    "today=date.today() #呼叫當前日期\n",
    "current_year=today.year #呼叫當前日期之年份\n",
    "birthday=raw_data_allpersonal['birthday'] #呼叫檔案全部生日\n",
    "birthday_format=pd.to_datetime(birthday) #格式化生日\n",
    "birthday_format_year=birthday_format.dt.year #格式化生日後，只保留年份\n",
    "All_age=current_year-birthday_format_year #當前日期之年份 - 每筆生日年份 = 每筆年齡\n",
    "\n",
    "Select_age_booleanmask=All_age.notnull() #標記沒有生日之資料為True\n",
    "Select_age_pre=All_age[Select_age_booleanmask] #篩選出有生日紀錄的資料(為上列標註為False之資料)\n",
    "Select_age_group=Select_age_pre.value_counts()#計算個別已知年齡層人數\n",
    "\n",
    "\n",
    "histogram_pre=pd.DataFrame(Select_age_group)\n",
    "histogram_index_format=histogram_pre.index.astype('Int64')\n",
    "x=(histogram_index_format)\n",
    "y=(histogram_pre.birthday)\n",
    "plt.bar(x,y,align='center')\n",
    "plt.title(\"Age Histogram\")\n",
    "plt.xlabel(\"Age\")\n",
    "plt.ylabel(\"Population\")\n",
    "plt.grid(True)\n",
    "plt.show()"
   ]
  },
  {
   "cell_type": "code",
   "execution_count": null,
   "id": "d7b60cd0",
   "metadata": {},
   "outputs": [],
   "source": [
    "#計算多位已知生日日期之年齡\n",
    "\n",
    "import numpy as np\n",
    "import pandas as pd\n",
    "from matplotlib import pyplot as plt\n",
    "from matplotlib import figure\n",
    "import seaborn as sns\n",
    "from dateutil.relativedelta import relativedelta\n",
    "from datetime import date\n",
    "from datetime import datetime\n",
    "%matplotlib inline\n",
    "\n",
    "#呼叫資料表\n",
    "raw_data_allpersonal = pd.read_csv ('/Users/humphreyshen/Desktop/Database Project/測試數據/alumni_event_participant/全體資料_114104.csv')\n",
    "\n",
    "today=date.today() #呼叫當前日期\n",
    "current_year=today.year #呼叫當前日期之年份\n",
    "birthday=raw_data_allpersonal['birthday'] #呼叫檔案全部生日\n",
    "birthday_format=pd.to_datetime(birthday) #格式化生日\n",
    "birthday_format_year=birthday_format.dt.year #格式化生日後，只保留年份\n",
    "All_age=current_year-birthday_format_year #當前日期之年份 - 每筆生日年份 = 每筆年齡\n",
    "\n",
    "Select_age_booleanmask=All_age.notnull() #標記沒有生日之資料為True\n",
    "Select_age_pre=All_age[Select_age_booleanmask] #篩選出有生日紀錄的資料(為上列標註為False之資料)\n",
    "Select_age_group=Select_age_pre.value_counts()#計算個別已知年齡層人數\n",
    "\n",
    "\n",
    "histogram_pre=pd.DataFrame(Select_age_group)\n",
    "histogram_index_format=histogram_pre.index.astype('Int64')\n",
    "x=(histogram_index_format)\n",
    "y=(histogram_pre.birthday)\n",
    "plt.bar(x,y,align='center')\n",
    "plt.title(\"Age Histogram\")\n",
    "plt.xlabel(\"Age\")\n",
    "plt.ylabel(\"Population\")\n",
    "plt.grid(True)\n",
    "plt.show()"
   ]
  }
 ],
 "metadata": {
  "kernelspec": {
   "display_name": "Python 3 (ipykernel)",
   "language": "python",
   "name": "python3"
  },
  "language_info": {
   "codemirror_mode": {
    "name": "ipython",
    "version": 3
   },
   "file_extension": ".py",
   "mimetype": "text/x-python",
   "name": "python",
   "nbconvert_exporter": "python",
   "pygments_lexer": "ipython3",
   "version": "3.8.5"
  }
 },
 "nbformat": 4,
 "nbformat_minor": 5
}
