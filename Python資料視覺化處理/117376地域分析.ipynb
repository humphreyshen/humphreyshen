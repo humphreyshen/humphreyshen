{
 "cells": [
  {
   "cell_type": "code",
   "execution_count": 1,
   "id": "585da0e6",
   "metadata": {},
   "outputs": [
    {
     "name": "stderr",
     "output_type": "stream",
     "text": [
      "/Users/humphreyshen/opt/anaconda3/lib/python3.8/site-packages/IPython/core/interactiveshell.py:3441: DtypeWarning: Columns (5,7,14) have mixed types.Specify dtype option on import or set low_memory=False.\n",
      "  exec(code_obj, self.user_global_ns, self.user_ns)\n"
     ]
    },
    {
     "data": {
      "text/html": [
       "<div>\n",
       "<style scoped>\n",
       "    .dataframe tbody tr th:only-of-type {\n",
       "        vertical-align: middle;\n",
       "    }\n",
       "\n",
       "    .dataframe tbody tr th {\n",
       "        vertical-align: top;\n",
       "    }\n",
       "\n",
       "    .dataframe thead th {\n",
       "        text-align: right;\n",
       "    }\n",
       "</style>\n",
       "<table border=\"1\" class=\"dataframe\">\n",
       "  <thead>\n",
       "    <tr style=\"text-align: right;\">\n",
       "      <th></th>\n",
       "      <th>id</th>\n",
       "      <th>zh_name</th>\n",
       "      <th>en_name</th>\n",
       "      <th>gender</th>\n",
       "      <th>birthday</th>\n",
       "      <th>age</th>\n",
       "      <th>email</th>\n",
       "      <th>zip_code</th>\n",
       "      <th>region</th>\n",
       "      <th>county</th>\n",
       "      <th>district</th>\n",
       "      <th>address</th>\n",
       "      <th>cell</th>\n",
       "      <th>tele</th>\n",
       "      <th>id_num</th>\n",
       "      <th>last_edit</th>\n",
       "      <th>bye</th>\n",
       "      <th>note</th>\n",
       "    </tr>\n",
       "  </thead>\n",
       "  <tbody>\n",
       "    <tr>\n",
       "      <th>0</th>\n",
       "      <td>1</td>\n",
       "      <td>殷葦婷</td>\n",
       "      <td>NaN</td>\n",
       "      <td>NaN</td>\n",
       "      <td>NaN</td>\n",
       "      <td>NaN</td>\n",
       "      <td>13816630288@163.con</td>\n",
       "      <td>20</td>\n",
       "      <td>CN</td>\n",
       "      <td>上海市</td>\n",
       "      <td>NaN</td>\n",
       "      <td>中國大陸上海市長寧區香花橋路38弄7號401室</td>\n",
       "      <td>NaN</td>\n",
       "      <td>13816630288</td>\n",
       "      <td>NaN</td>\n",
       "      <td>NaN</td>\n",
       "      <td>1</td>\n",
       "      <td>NULL\\r</td>\n",
       "    </tr>\n",
       "    <tr>\n",
       "      <th>1</th>\n",
       "      <td>2</td>\n",
       "      <td>郭敬子</td>\n",
       "      <td>NaN</td>\n",
       "      <td>1.0</td>\n",
       "      <td>NaN</td>\n",
       "      <td>NaN</td>\n",
       "      <td>jimkuo49@gmail.com</td>\n",
       "      <td>200</td>\n",
       "      <td>TW</td>\n",
       "      <td>基隆市</td>\n",
       "      <td>仁愛區</td>\n",
       "      <td>基隆市仁愛區愛七路53號3樓</td>\n",
       "      <td>918136219</td>\n",
       "      <td>NaN</td>\n",
       "      <td>NaN</td>\n",
       "      <td>NaN</td>\n",
       "      <td>1</td>\n",
       "      <td>NULL\\r</td>\n",
       "    </tr>\n",
       "    <tr>\n",
       "      <th>2</th>\n",
       "      <td>3</td>\n",
       "      <td>陳仕俍</td>\n",
       "      <td>NaN</td>\n",
       "      <td>NaN</td>\n",
       "      <td>NaN</td>\n",
       "      <td>NaN</td>\n",
       "      <td>gelintex@ms27.hinet.net</td>\n",
       "      <td>205</td>\n",
       "      <td>TW</td>\n",
       "      <td>基隆市</td>\n",
       "      <td>暖暖區</td>\n",
       "      <td>基隆市暖暖區暖碇路169號11樓</td>\n",
       "      <td>920521092</td>\n",
       "      <td>02-24573016</td>\n",
       "      <td>NaN</td>\n",
       "      <td>NaN</td>\n",
       "      <td>1</td>\n",
       "      <td>NULL\\r</td>\n",
       "    </tr>\n",
       "    <tr>\n",
       "      <th>3</th>\n",
       "      <td>4</td>\n",
       "      <td>郭珈郗</td>\n",
       "      <td>NaN</td>\n",
       "      <td>NaN</td>\n",
       "      <td>NaN</td>\n",
       "      <td>NaN</td>\n",
       "      <td>grcekwk@gmail.com</td>\n",
       "      <td>NaN</td>\n",
       "      <td>HK</td>\n",
       "      <td>NaN</td>\n",
       "      <td>NaN</td>\n",
       "      <td>香港九龍官塘順安村安群樓514室</td>\n",
       "      <td>NaN</td>\n",
       "      <td>(+852)35929419</td>\n",
       "      <td>NaN</td>\n",
       "      <td>NaN</td>\n",
       "      <td>1</td>\n",
       "      <td>NULL\\r</td>\n",
       "    </tr>\n",
       "    <tr>\n",
       "      <th>4</th>\n",
       "      <td>5</td>\n",
       "      <td>陸大文</td>\n",
       "      <td>NaN</td>\n",
       "      <td>1.0</td>\n",
       "      <td>1954-05-26</td>\n",
       "      <td>NaN</td>\n",
       "      <td>kathyhung168@gmail.com</td>\n",
       "      <td>105</td>\n",
       "      <td>TW</td>\n",
       "      <td>台北市</td>\n",
       "      <td>松山區</td>\n",
       "      <td>台北市松山區復興北路99號3樓</td>\n",
       "      <td>0918-032-920</td>\n",
       "      <td>02-25478801</td>\n",
       "      <td>A101653944</td>\n",
       "      <td>NaN</td>\n",
       "      <td>1</td>\n",
       "      <td>NULL\\r</td>\n",
       "    </tr>\n",
       "  </tbody>\n",
       "</table>\n",
       "</div>"
      ],
      "text/plain": [
       "   id zh_name en_name  gender    birthday  age                    email  \\\n",
       "0   1     殷葦婷     NaN     NaN         NaN  NaN      13816630288@163.con   \n",
       "1   2     郭敬子     NaN     1.0         NaN  NaN       jimkuo49@gmail.com   \n",
       "2   3     陳仕俍     NaN     NaN         NaN  NaN  gelintex@ms27.hinet.net   \n",
       "3   4     郭珈郗     NaN     NaN         NaN  NaN        grcekwk@gmail.com   \n",
       "4   5     陸大文     NaN     1.0  1954-05-26  NaN   kathyhung168@gmail.com   \n",
       "\n",
       "  zip_code region county district                  address          cell  \\\n",
       "0       20     CN    上海市      NaN  中國大陸上海市長寧區香花橋路38弄7號401室           NaN   \n",
       "1      200     TW    基隆市      仁愛區           基隆市仁愛區愛七路53號3樓     918136219   \n",
       "2      205     TW    基隆市      暖暖區         基隆市暖暖區暖碇路169號11樓     920521092   \n",
       "3      NaN     HK    NaN      NaN         香港九龍官塘順安村安群樓514室           NaN   \n",
       "4      105     TW    台北市      松山區          台北市松山區復興北路99號3樓  0918-032-920   \n",
       "\n",
       "             tele      id_num last_edit  bye    note  \n",
       "0     13816630288         NaN       NaN    1  NULL\\r  \n",
       "1             NaN         NaN       NaN    1  NULL\\r  \n",
       "2     02-24573016         NaN       NaN    1  NULL\\r  \n",
       "3  (+852)35929419         NaN       NaN    1  NULL\\r  \n",
       "4     02-25478801  A101653944       NaN    1  NULL\\r  "
      ]
     },
     "execution_count": 1,
     "metadata": {},
     "output_type": "execute_result"
    }
   ],
   "source": [
    "import pandas as pd\n",
    "import numpy as np\n",
    "df_orginal_withoutblank=pd.read_csv(\"/Users/humphreyshen/Desktop/2021 Database Project/總表下載數據/df_orginal_withoutblank.csv\")\n",
    "df_withoutblank=pd.DataFrame(df_orginal_withoutblank)\n",
    "df_withoutblank.head()"
   ]
  },
  {
   "cell_type": "code",
   "execution_count": 2,
   "id": "d4aca82a",
   "metadata": {},
   "outputs": [
    {
     "data": {
      "text/plain": [
       "0    中國大陸上海市長寧區香花橋路38弄7號401室\n",
       "1             基隆市仁愛區愛七路53號3樓\n",
       "2           基隆市暖暖區暖碇路169號11樓\n",
       "3           香港九龍官塘順安村安群樓514室\n",
       "4            台北市松山區復興北路99號3樓\n",
       "Name: address, dtype: object"
      ]
     },
     "execution_count": 2,
     "metadata": {},
     "output_type": "execute_result"
    }
   ],
   "source": [
    "df_address_data=df_withoutblank['address']\n",
    "df_address_data.head()"
   ]
  },
  {
   "cell_type": "code",
   "execution_count": 7,
   "id": "ed026461",
   "metadata": {},
   "outputs": [
    {
     "data": {
      "text/plain": [
       "115737"
      ]
     },
     "execution_count": 7,
     "metadata": {},
     "output_type": "execute_result"
    }
   ],
   "source": [
    "df_address_data.notnull().sum()"
   ]
  },
  {
   "cell_type": "code",
   "execution_count": null,
   "id": "cdb22ec1",
   "metadata": {},
   "outputs": [],
   "source": []
  }
 ],
 "metadata": {
  "kernelspec": {
   "display_name": "Python 3 (ipykernel)",
   "language": "python",
   "name": "python3"
  },
  "language_info": {
   "codemirror_mode": {
    "name": "ipython",
    "version": 3
   },
   "file_extension": ".py",
   "mimetype": "text/x-python",
   "name": "python",
   "nbconvert_exporter": "python",
   "pygments_lexer": "ipython3",
   "version": "3.8.5"
  }
 },
 "nbformat": 4,
 "nbformat_minor": 5
}
