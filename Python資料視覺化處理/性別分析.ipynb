{
 "cells": [
  {
   "cell_type": "code",
   "execution_count": 101,
   "id": "e08c3652",
   "metadata": {},
   "outputs": [
    {
     "name": "stdout",
     "output_type": "stream",
     "text": [
      "已知男性總人數： 421\n",
      "已知女性總人數： 448\n",
      "無性別標記總人數： 113216\n"
     ]
    }
   ],
   "source": [
    "import numpy as np\n",
    "import pandas as pd\n",
    "from matplotlib import pyplot as plt\n",
    "from matplotlib import figure\n",
    "import seaborn as sns\n",
    "%matplotlib inline\n",
    "\n",
    "raw_data_allpersonal = pd.read_csv ('/Users/humphreyshen/Desktop/Database Project/測試數據/alumni_event_participant/全體資料_114104.csv')\n",
    "\n",
    "sex_count_pre=raw_data_allpersonal.value_counts('gender')\n",
    "Male_sex_count=sex_count_pre.loc[1] #男性人數\n",
    "Female_sex_count=sex_count_pre.loc[0] #女性人數\n",
    "No_sex_count=raw_data_allpersonal['gender'].isnull().sum() #NaN人數\n",
    "\n",
    "print(\"已知男性總人數：\",Male_sex_count)\n",
    "print(\"已知女性總人數：\",Female_sex_count)\n",
    "print(\"無性別標記總人數：\",No_sex_count)\n"
   ]
  },
  {
   "cell_type": "code",
   "execution_count": null,
   "id": "361e9d59",
   "metadata": {},
   "outputs": [],
   "source": []
  }
 ],
 "metadata": {
  "kernelspec": {
   "display_name": "Python 3 (ipykernel)",
   "language": "python",
   "name": "python3"
  },
  "language_info": {
   "codemirror_mode": {
    "name": "ipython",
    "version": 3
   },
   "file_extension": ".py",
   "mimetype": "text/x-python",
   "name": "python",
   "nbconvert_exporter": "python",
   "pygments_lexer": "ipython3",
   "version": "3.8.5"
  }
 },
 "nbformat": 4,
 "nbformat_minor": 5
}
