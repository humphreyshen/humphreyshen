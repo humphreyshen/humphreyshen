{
 "cells": [
  {
   "cell_type": "code",
   "execution_count": 3,
   "id": "bac86666",
   "metadata": {},
   "outputs": [
    {
     "data": {
      "text/plain": [
       "0    上海市\n",
       "1    基隆市\n",
       "2    基隆市\n",
       "3    NaN\n",
       "4    台北市\n",
       "Name: county, dtype: object"
      ]
     },
     "execution_count": 3,
     "metadata": {},
     "output_type": "execute_result"
    }
   ],
   "source": [
    "import pandas as pd\n",
    "import numpy as np\n",
    "\n",
    "original_data=pd.read_csv('/Users/humphreyshen/Desktop/2021 Database Project/總表下載數據/df_orginal_withoutblank.csv')\n",
    "county=original_data['county']\n",
    "county.head()"
   ]
  },
  {
   "cell_type": "code",
   "execution_count": 5,
   "id": "db69a770",
   "metadata": {},
   "outputs": [
    {
     "data": {
      "text/plain": [
       "0    上海市\n",
       "1    基隆市\n",
       "2    基隆市\n",
       "4    台北市\n",
       "5    台北市\n",
       "Name: county, dtype: object"
      ]
     },
     "execution_count": 5,
     "metadata": {},
     "output_type": "execute_result"
    }
   ],
   "source": [
    "county_notnull=county.dropna()\n",
    "county_notnull.head()"
   ]
  },
  {
   "cell_type": "code",
   "execution_count": 9,
   "id": "4e2e5382",
   "metadata": {},
   "outputs": [
    {
     "data": {
      "text/plain": [
       "台北市    40952\n",
       "新北市    31239\n",
       "桃園市     7005\n",
       "高雄市     6524\n",
       "台中市     6082\n",
       "       ...  \n",
       "OH         1\n",
       "蘆竹區        1\n",
       "馬公市        1\n",
       "萬華區        1\n",
       "吉林省        1\n",
       "Name: county, Length: 68, dtype: int64"
      ]
     },
     "execution_count": 9,
     "metadata": {},
     "output_type": "execute_result"
    }
   ],
   "source": [
    "group=county_notnull.value_counts()"
   ]
  },
  {
   "cell_type": "code",
   "execution_count": 10,
   "id": "24d5c8e7",
   "metadata": {},
   "outputs": [],
   "source": [
    "group.to_csv('county_notnull.csv')"
   ]
  },
  {
   "cell_type": "code",
   "execution_count": null,
   "id": "9e877a7b",
   "metadata": {},
   "outputs": [],
   "source": []
  }
 ],
 "metadata": {
  "kernelspec": {
   "display_name": "Python 3 (ipykernel)",
   "language": "python",
   "name": "python3"
  },
  "language_info": {
   "codemirror_mode": {
    "name": "ipython",
    "version": 3
   },
   "file_extension": ".py",
   "mimetype": "text/x-python",
   "name": "python",
   "nbconvert_exporter": "python",
   "pygments_lexer": "ipython3",
   "version": "3.8.5"
  }
 },
 "nbformat": 4,
 "nbformat_minor": 5
}
