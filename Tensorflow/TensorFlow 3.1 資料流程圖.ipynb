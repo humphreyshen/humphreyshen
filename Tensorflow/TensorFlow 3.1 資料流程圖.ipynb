{
 "cells": [
  {
   "cell_type": "code",
   "execution_count": 6,
   "id": "featured-uniform",
   "metadata": {},
   "outputs": [
    {
     "name": "stdout",
     "output_type": "stream",
     "text": [
      "10\n"
     ]
    }
   ],
   "source": [
    "import tensorflow as tf\n",
    "\n",
    "a=tf.constant(2,name='a')\n",
    "b=tf.constant(8,name='b')\n",
    "c=a+b\n",
    "\n",
    "tf.print(c)"
   ]
  },
  {
   "cell_type": "code",
   "execution_count": 9,
   "id": "determined-journalist",
   "metadata": {},
   "outputs": [
    {
     "name": "stdout",
     "output_type": "stream",
     "text": [
      "tf.Tensor(6, shape=(), dtype=int32)\n"
     ]
    }
   ],
   "source": [
    "import tensorflow as tf\n",
    "\n",
    "a=tf.constant(5,name='a')\n",
    "b=tf.constant(1,name='b')\n",
    "c=a+b\n",
    "\n",
    "print(c)"
   ]
  },
  {
   "cell_type": "code",
   "execution_count": 16,
   "id": "revolutionary-nelson",
   "metadata": {
    "scrolled": true
   },
   "outputs": [
    {
     "name": "stdout",
     "output_type": "stream",
     "text": [
      "First:[c,a]= [1, 1]\n",
      "Second:[c,a]= [1, 1]\n"
     ]
    }
   ],
   "source": [
    "import tensorflow as tf\n",
    "a = tf.Variable(1,name='a')\n",
    "b = tf.constant(1,name='b')\n",
    "c = tf.Variable(a,a+b)\n",
    "tf.print('First:[c,a]=',[c,a])\n",
    "tf.print('Second:[c,a]=',[c,a])"
   ]
  },
  {
   "cell_type": "code",
   "execution_count": 127,
   "id": "realistic-windsor",
   "metadata": {},
   "outputs": [
    {
     "name": "stdout",
     "output_type": "stream",
     "text": [
      "First:[c,a]= [5, 1]\n",
      "Second:[c,a]= [5, 1]\n"
     ]
    }
   ],
   "source": [
    "import tensorflow as tf\n",
    "\n",
    "def plus():  \n",
    "    a = 2\n",
    "    b = 3\n",
    "    c = tf.Variable(a+b)\n",
    "    return c\n",
    "c_=plus()\n",
    "tf.print('First:[c,a]=',[c_,a])\n",
    "tf.print('Second:[c,a]=',[c_,b])"
   ]
  },
  {
   "cell_type": "code",
   "execution_count": null,
   "id": "stylish-assignment",
   "metadata": {},
   "outputs": [],
   "source": []
  }
 ],
 "metadata": {
  "kernelspec": {
   "display_name": "Python 3",
   "language": "python",
   "name": "python3"
  },
  "language_info": {
   "codemirror_mode": {
    "name": "ipython",
    "version": 3
   },
   "file_extension": ".py",
   "mimetype": "text/x-python",
   "name": "python",
   "nbconvert_exporter": "python",
   "pygments_lexer": "ipython3",
   "version": "3.8.8"
  }
 },
 "nbformat": 4,
 "nbformat_minor": 5
}
